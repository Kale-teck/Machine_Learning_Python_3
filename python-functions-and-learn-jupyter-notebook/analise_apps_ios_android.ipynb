{
 "cells": [
  {
   "cell_type": "markdown",
   "metadata": {},
   "source": [
    "# Análise de dados sobre empresa de aplicativos\n",
    "\n",
    "Aqui consiste algumas observações sobre a produção de aplicativos gratuitos e sua principal fonte de receitas: os anúncios."
   ]
  },
  {
   "cell_type": "code",
   "execution_count": 1,
   "metadata": {},
   "outputs": [],
   "source": [
    "from csv import reader"
   ]
  },
  {
   "cell_type": "code",
   "execution_count": 2,
   "metadata": {},
   "outputs": [],
   "source": [
    "### The Google Play data set ###\n",
    "opened_file = open('googleplaystore.csv')\n",
    "read_file = reader(opened_file)\n",
    "android = list(read_file)\n",
    "android_header = android[0]\n",
    "android = android[1:]\n",
    "\n",
    "### The App Store data set ###\n",
    "opened_file = open('AppleStore.csv')\n",
    "read_file = reader(opened_file)\n",
    "ios = list(read_file)\n",
    "ios_header = ios[0]\n",
    "ios = ios[1:]"
   ]
  },
  {
   "cell_type": "markdown",
   "metadata": {},
   "source": [
    "## primeira linha de cada dataset (conjunto de dados)"
   ]
  },
  {
   "cell_type": "code",
   "execution_count": 3,
   "metadata": {},
   "outputs": [
    {
     "name": "stdout",
     "output_type": "stream",
     "text": [
      "['id', 'track_name', 'size_bytes', 'currency', 'price', 'rating_count_tot', 'rating_count_ver', 'user_rating', 'user_rating_ver', 'ver', 'cont_rating', 'prime_genre', 'sup_devices.num', 'ipadSc_urls.num', 'lang.num', 'vpp_lic']\n",
      "\n",
      "\n",
      "['App', 'Category', 'Rating', 'Reviews', 'Size', 'Installs', 'Type', 'Price', 'Content Rating', 'Genres', 'Last Updated', 'Current Ver', 'Android Ver']\n"
     ]
    }
   ],
   "source": [
    "print(ios_header)\n",
    "print('\\n')\n",
    "print(android_header)"
   ]
  },
  {
   "cell_type": "markdown",
   "metadata": {},
   "source": [
    "## Função que conta linhas (rows)"
   ]
  },
  {
   "cell_type": "code",
   "execution_count": 4,
   "metadata": {},
   "outputs": [],
   "source": [
    "def number_rows(dataset):\n",
    "    count = 0\n",
    "    for row in dataset:\n",
    "        count += 1\n",
    "    return count"
   ]
  },
  {
   "cell_type": "code",
   "execution_count": 5,
   "metadata": {},
   "outputs": [],
   "source": [
    "number_rows_android = number_rows(android)\n",
    "number_rows_ios = number_rows(ios)"
   ]
  },
  {
   "cell_type": "code",
   "execution_count": 6,
   "metadata": {},
   "outputs": [
    {
     "name": "stdout",
     "output_type": "stream",
     "text": [
      "10841\n",
      "7197\n"
     ]
    }
   ],
   "source": [
    "print(number_rows_android)\n",
    "print(number_rows_ios)"
   ]
  },
  {
   "cell_type": "markdown",
   "metadata": {},
   "source": [
    "## Separando aplicativos grátis"
   ]
  },
  {
   "cell_type": "code",
   "execution_count": 7,
   "metadata": {},
   "outputs": [],
   "source": [
    "free_apps_android = []\n",
    "for row in android:\n",
    "    apps = row\n",
    "    if apps[6] == 'Free' or apps[7] == '0':\n",
    "        free_apps_android.append(apps)\n",
    "        \n",
    "free_apps_ios = []\n",
    "for row in ios:\n",
    "    apps = row\n",
    "    if apps[4] == '0.0':\n",
    "        free_apps_ios.append(apps)\n"
   ]
  },
  {
   "cell_type": "markdown",
   "metadata": {},
   "source": [
    "### Observando os tamanhos dos datasets obtidos"
   ]
  },
  {
   "cell_type": "code",
   "execution_count": 8,
   "metadata": {},
   "outputs": [
    {
     "name": "stdout",
     "output_type": "stream",
     "text": [
      "Lenght of dataset Free Apps Android = 10040\n",
      "Lenght of dataset Free Apps IOS = 4056\n"
     ]
    }
   ],
   "source": [
    "print('Lenght of dataset Free Apps Android =', len(free_apps_android))\n",
    "print('Lenght of dataset Free Apps IOS =', len(free_apps_ios))"
   ]
  },
  {
   "cell_type": "markdown",
   "metadata": {},
   "source": [
    "## Aplicativos mais usados"
   ]
  },
  {
   "cell_type": "code",
   "execution_count": 15,
   "metadata": {},
   "outputs": [],
   "source": [
    "def freq_table(dataset, index):\n",
    "    table = {}\n",
    "    total = 0\n",
    "    \n",
    "    for row in dataset:\n",
    "        total += 1\n",
    "        value = row[index]\n",
    "        if value in table:\n",
    "            table[value] += 1\n",
    "        else:\n",
    "            table[value] = 1\n",
    "    \n",
    "    table_percentages = {}\n",
    "    for key in table:\n",
    "        percentage = (table[key] / total) * 100\n",
    "        table_percentages[key] = percentage \n",
    "    \n",
    "    return table_percentages\n",
    "\n",
    "\n",
    "def display_table(dataset, index):\n",
    "    table = freq_table(dataset, index)\n",
    "    table_display = []\n",
    "    for key in table:\n",
    "        key_val_as_tuple = (table[key], key)\n",
    "        table_display.append(key_val_as_tuple)\n",
    "        \n",
    "    table_sorted = sorted(table_display, reverse = True)\n",
    "    for entry in table_sorted:\n",
    "        print(entry[1], ':', entry[0])"
   ]
  },
  {
   "cell_type": "code",
   "execution_count": 17,
   "metadata": {},
   "outputs": [
    {
     "name": "stdout",
     "output_type": "stream",
     "text": [
      "Tools : 7.766811179780462\n",
      "Entertainment : 5.74670233373305\n",
      "Education : 5.0641084770777605\n",
      "Medical : 4.27082372474864\n",
      "Business : 4.243151000830181\n",
      "Productivity : 3.911078313808689\n",
      "Sports : 3.671248039848722\n",
      "Personalization : 3.615902592011807\n",
      "Communication : 3.569781385481044\n",
      "Lifestyle : 3.5144359376441288\n",
      "Finance : 3.3760723180518406\n",
      "Action : 3.3668480767456876\n",
      "Health & Fitness : 3.1454662853980264\n",
      "Photography : 3.090120837561111\n",
      "Social : 2.721151185315008\n",
      "News & Magazines : 2.610460289641177\n",
      "Shopping : 2.398302739599668\n",
      "Travel & Local : 2.37063001568121\n",
      "Dating : 2.158472465639701\n",
      "Books & Reference : 2.130799741721243\n",
      "Arcade : 2.029333087353565\n",
      "Simulation : 1.844848261230514\n",
      "Casual : 1.7802785720874459\n",
      "Video Players & Editors : 1.5957937459643943\n",
      "Puzzle : 1.2913937828613598\n",
      "Maps & Navigation : 1.263721058942902\n",
      "Food & Drink : 1.1714786458813762\n",
      "Role Playing : 1.00544230237063\n",
      "Strategy : 0.9869938197583248\n",
      "Racing : 0.9039756480029517\n",
      "House & Home : 0.8117332349414261\n",
      "Libraries & Demo : 0.7840605110229684\n",
      "Auto & Vehicles : 0.7840605110229684\n",
      "Weather : 0.7563877871045107\n",
      "Adventure : 0.6918180979614427\n",
      "Events : 0.5903514435937643\n",
      "Comics : 0.5442302370630016\n",
      "Art & Design : 0.5350059957568489\n",
      "Beauty : 0.48888478922608614\n",
      "Education;Education : 0.4612120653076285\n",
      "Card : 0.44276358269532334\n",
      "Parenting : 0.4243151000830182\n",
      "Board : 0.40586661747071306\n",
      "Educational;Education : 0.37819389355225536\n",
      "Casino : 0.3597454109399502\n",
      "Trivia : 0.35052116963379765\n",
      "Educational : 0.3412969283276451\n",
      "Casual;Pretend Play : 0.2859514804907296\n",
      "Word : 0.26750299787842446\n",
      "Entertainment;Music & Video : 0.24905451526611935\n",
      "Education;Pretend Play : 0.2121575500415091\n",
      "Music : 0.20293330873535653\n",
      "Casual;Action & Adventure : 0.19370906742920396\n",
      "Racing;Action & Adventure : 0.1844848261230514\n",
      "Puzzle;Brain Games : 0.17526058481689882\n",
      "Educational;Pretend Play : 0.17526058481689882\n",
      "Action;Action & Adventure : 0.15681210220459368\n",
      "Arcade;Action & Adventure : 0.1475878608984411\n",
      "Board;Brain Games : 0.13836361959228852\n",
      "Casual;Brain Games : 0.1199151369799834\n",
      "Adventure;Action & Adventure : 0.1199151369799834\n",
      "Simulation;Action & Adventure : 0.10146665436767827\n",
      "Entertainment;Brain Games : 0.07379393044922054\n",
      "Role Playing;Action & Adventure : 0.06456968914306797\n",
      "Parenting;Education : 0.06456968914306797\n",
      "Education;Creativity : 0.06456968914306797\n",
      "Casual;Creativity : 0.06456968914306797\n",
      "Art & Design;Creativity : 0.06456968914306797\n",
      "Parenting;Music & Video : 0.05534544783691542\n",
      "Educational;Brain Games : 0.05534544783691542\n",
      "Education;Action & Adventure : 0.05534544783691542\n",
      "Role Playing;Pretend Play : 0.04612120653076285\n",
      "Puzzle;Action & Adventure : 0.04612120653076285\n",
      "Educational;Creativity : 0.04612120653076285\n",
      "Education;Music & Video : 0.04612120653076285\n",
      "Education;Brain Games : 0.04612120653076285\n",
      "Sports;Action & Adventure : 0.03689696522461027\n",
      "Simulation;Pretend Play : 0.03689696522461027\n",
      "Educational;Action & Adventure : 0.03689696522461027\n",
      "Video Players & Editors;Music & Video : 0.02767272391845771\n",
      "Simulation;Education : 0.02767272391845771\n",
      "Music;Music & Video : 0.02767272391845771\n",
      "Entertainment;Creativity : 0.02767272391845771\n",
      "Entertainment;Action & Adventure : 0.02767272391845771\n",
      "Casual;Education : 0.02767272391845771\n",
      "Board;Action & Adventure : 0.02767272391845771\n",
      "Video Players & Editors;Creativity : 0.018448482612305136\n",
      "Strategy;Action & Adventure : 0.018448482612305136\n",
      "Puzzle;Creativity : 0.018448482612305136\n",
      "Entertainment;Pretend Play : 0.018448482612305136\n",
      "Casual;Music & Video : 0.018448482612305136\n",
      "Card;Action & Adventure : 0.018448482612305136\n",
      "Books & Reference;Education : 0.018448482612305136\n",
      "Art & Design;Pretend Play : 0.018448482612305136\n",
      "Art & Design;Action & Adventure : 0.018448482612305136\n",
      "Adventure;Education : 0.018448482612305136\n",
      "Trivia;Education : 0.009224241306152568\n",
      "Travel & Local;Action & Adventure : 0.009224241306152568\n",
      "Tools;Education : 0.009224241306152568\n",
      "Strategy;Education : 0.009224241306152568\n",
      "Strategy;Creativity : 0.009224241306152568\n",
      "Role Playing;Education : 0.009224241306152568\n",
      "Role Playing;Brain Games : 0.009224241306152568\n",
      "Racing;Pretend Play : 0.009224241306152568\n",
      "Puzzle;Education : 0.009224241306152568\n",
      "Parenting;Brain Games : 0.009224241306152568\n",
      "Music & Audio;Music & Video : 0.009224241306152568\n",
      "Lifestyle;Pretend Play : 0.009224241306152568\n",
      "Lifestyle;Education : 0.009224241306152568\n",
      "Health & Fitness;Education : 0.009224241306152568\n",
      "Health & Fitness;Action & Adventure : 0.009224241306152568\n",
      "Entertainment;Education : 0.009224241306152568\n",
      "Communication;Creativity : 0.009224241306152568\n",
      "Comics;Creativity : 0.009224241306152568\n",
      "Card;Brain Games : 0.009224241306152568\n",
      "Books & Reference;Creativity : 0.009224241306152568\n",
      "Board;Pretend Play : 0.009224241306152568\n",
      "Arcade;Pretend Play : 0.009224241306152568\n",
      "Adventure;Brain Games : 0.009224241306152568\n",
      " : 0.009224241306152568\n"
     ]
    }
   ],
   "source": [
    "display_table(android, -4)"
   ]
  },
  {
   "cell_type": "markdown",
   "metadata": {},
   "source": [
    "### Android\n",
    "* Aplicativos de Ferramentas são mais usados\n",
    "* Em seguida vem os de entretendimento"
   ]
  },
  {
   "cell_type": "code",
   "execution_count": 18,
   "metadata": {},
   "outputs": [
    {
     "name": "stdout",
     "output_type": "stream",
     "text": [
      "Games : 53.66124774211477\n",
      "Entertainment : 7.433652910935113\n",
      "Education : 6.294289287203002\n",
      "Photo & Video : 4.849242740030569\n",
      "Utilities : 3.4458802278727245\n",
      "Health & Fitness : 2.501042100875365\n",
      "Productivity : 2.473252744198972\n",
      "Social Networking : 2.3204112824788106\n",
      "Lifestyle : 2.0008336807002918\n",
      "Music : 1.9174656106711132\n",
      "Shopping : 1.6951507572599693\n",
      "Sports : 1.5839933305543976\n",
      "Book : 1.5562039738780047\n",
      "Finance : 1.445046547172433\n",
      "Travel : 1.1254689453939142\n",
      "News : 1.0421008753647354\n",
      "Weather : 1.0004168403501459\n",
      "Reference : 0.8892594136445742\n",
      "Food & Drink : 0.8753647353063776\n",
      "Business : 0.7919966652771988\n",
      "Navigation : 0.6391552035570377\n",
      "Medical : 0.31957760177851885\n",
      "Catalogs : 0.1389467833819647\n"
     ]
    }
   ],
   "source": [
    "display_table(ios, -5)"
   ]
  },
  {
   "cell_type": "markdown",
   "metadata": {},
   "source": [
    "## Aplicativos mais populales por gênero"
   ]
  },
  {
   "cell_type": "code",
   "execution_count": 15,
   "metadata": {},
   "outputs": [
    {
     "name": "stdout",
     "output_type": "stream",
     "text": [
      "Social Networking : 45498.89820359281\n",
      "Photo & Video : 14352.280802292264\n",
      "Games : 13691.996633868463\n",
      "Music : 28842.021739130436\n",
      "Reference : 22410.84375\n",
      "Health & Fitness : 9913.172222222222\n",
      "Weather : 22181.027777777777\n",
      "Utilities : 6863.822580645161\n",
      "Travel : 14129.444444444445\n",
      "Shopping : 18615.32786885246\n",
      "News : 13015.066666666668\n",
      "Navigation : 11853.95652173913\n",
      "Lifestyle : 6161.763888888889\n",
      "Entertainment : 7533.678504672897\n",
      "Food & Drink : 13938.619047619048\n",
      "Sports : 14026.929824561403\n",
      "Book : 5125.4375\n",
      "Finance : 11047.653846153846\n",
      "Education : 2239.2295805739514\n",
      "Productivity : 8051.3258426966295\n",
      "Business : 4788.087719298245\n",
      "Catalogs : 1732.5\n",
      "Medical : 592.7826086956521\n"
     ]
    }
   ],
   "source": [
    "genres_ios = freq_table(ios, -5)\n",
    "\n",
    "for genre in genres_ios:\n",
    "    total = 0\n",
    "    len_genre = 0\n",
    "    for app in ios:\n",
    "        genre_app = app[-5]\n",
    "        if genre_app == genre:            \n",
    "            n_ratings = float(app[5])\n",
    "            total += n_ratings\n",
    "            len_genre += 1\n",
    "    avg_n_ratings = total / len_genre\n",
    "    print(genre, ':', avg_n_ratings)"
   ]
  }
 ],
 "metadata": {
  "kernelspec": {
   "display_name": "Python 3",
   "language": "python",
   "name": "python3"
  },
  "language_info": {
   "codemirror_mode": {
    "name": "ipython",
    "version": 3
   },
   "file_extension": ".py",
   "mimetype": "text/x-python",
   "name": "python",
   "nbconvert_exporter": "python",
   "pygments_lexer": "ipython3",
   "version": "3.8.2"
  }
 },
 "nbformat": 4,
 "nbformat_minor": 2
}
